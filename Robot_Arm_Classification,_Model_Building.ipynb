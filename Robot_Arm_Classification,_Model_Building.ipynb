{
  "cells": [
    {
      "cell_type": "code",
      "execution_count": 1,
      "metadata": {
        "colab": {
          "base_uri": "https://localhost:8080/"
        },
        "id": "N_z9Jg8s3YRK",
        "outputId": "8162ff1f-646b-47bd-d874-ea988e22c86d"
      },
      "outputs": [
        {
          "output_type": "stream",
          "name": "stdout",
          "text": [
            "Drive already mounted at /content/drive; to attempt to forcibly remount, call drive.mount(\"/content/drive\", force_remount=True).\n"
          ]
        }
      ],
      "source": [
        "import numpy as np\n",
        "import matplotlib.pyplot as plt\n",
        "import seaborn as sns\n",
        "\n",
        "from keras.utils import to_categorical\n",
        "from sklearn.model_selection import train_test_split\n",
        "from sklearn.metrics import confusion_matrix\n",
        "\n",
        "from tensorflow.keras import Sequential\n",
        "from tensorflow.keras.layers import Conv2D, MaxPool2D, Flatten, Dense\n",
        "\n",
        "\n",
        "from google.colab import drive\n",
        "drive.mount('/content/drive')"
      ]
    },
    {
      "cell_type": "code",
      "source": [
        "All_Data = np.load(\"/content/drive/MyDrive/All_Data.npy\")\n",
        "All_Labels = np.load(\"/content/drive/MyDrive/All_Labels.npy\")"
      ],
      "metadata": {
        "id": "9b_uFJ0zvXaI"
      },
      "execution_count": 2,
      "outputs": []
    },
    {
      "cell_type": "code",
      "execution_count": 3,
      "metadata": {
        "id": "LzUZiI-Oxnlf"
      },
      "outputs": [],
      "source": [
        "All_Labels = to_categorical(All_Labels, num_classes=5)\n",
        "In_Train, In_Test, Out_Train, Out_Test =  train_test_split(All_Data, All_Labels, test_size = 0.2, random_state=123)\n",
        "\n",
        "# CNN accepts 3 dimentional data\n",
        "In_Train = In_Train.reshape(In_Train.shape[0], 250, 16, 1)\n",
        "In_Test = In_Test.reshape(In_Test.shape[0], 250, 16, 1)"
      ]
    },
    {
      "cell_type": "code",
      "execution_count": 4,
      "metadata": {
        "colab": {
          "base_uri": "https://localhost:8080/"
        },
        "id": "b89yI5vox6OD",
        "outputId": "5d9a6061-bb25-4991-d8b0-c90a07cce232"
      },
      "outputs": [
        {
          "output_type": "stream",
          "name": "stdout",
          "text": [
            "Model: \"sequential\"\n",
            "_________________________________________________________________\n",
            " Layer (type)                Output Shape              Param #   \n",
            "=================================================================\n",
            " conv2d (Conv2D)             (None, 248, 14, 32)       320       \n",
            "                                                                 \n",
            " max_pooling2d (MaxPooling2  (None, 124, 7, 32)        0         \n",
            " D)                                                              \n",
            "                                                                 \n",
            " conv2d_1 (Conv2D)           (None, 122, 5, 64)        18496     \n",
            "                                                                 \n",
            " max_pooling2d_1 (MaxPoolin  (None, 61, 2, 64)         0         \n",
            " g2D)                                                            \n",
            "                                                                 \n",
            " flatten (Flatten)           (None, 7808)              0         \n",
            "                                                                 \n",
            " dense (Dense)               (None, 128)               999552    \n",
            "                                                                 \n",
            " dense_1 (Dense)             (None, 5)                 645       \n",
            "                                                                 \n",
            "=================================================================\n",
            "Total params: 1019013 (3.89 MB)\n",
            "Trainable params: 1019013 (3.89 MB)\n",
            "Non-trainable params: 0 (0.00 Byte)\n",
            "_________________________________________________________________\n"
          ]
        }
      ],
      "source": [
        "CNN = Sequential()\n",
        "\n",
        "CNN.add(Conv2D(filters=32, kernel_size=(3, 3), activation='relu', input_shape = In_Train[0].shape))\n",
        "\n",
        "CNN.add(MaxPool2D(pool_size=(2, 2)))\n",
        "CNN.add(Conv2D(filters=64, kernel_size=(3, 3), activation='relu'))\n",
        "\n",
        "CNN.add(MaxPool2D(pool_size=(2, 2)))\n",
        "CNN.add(Flatten())\n",
        "\n",
        "CNN.add(Dense(units=128, activation='relu'))\n",
        "\n",
        "CNN.add(Dense(units=5, activation='softmax'))\n",
        "\n",
        "CNN.compile(optimizer='adam', loss='categorical_crossentropy', metrics=['accuracy'])\n",
        "\n",
        "\n",
        "CNN.summary()"
      ]
    },
    {
      "cell_type": "code",
      "execution_count": 5,
      "metadata": {
        "colab": {
          "base_uri": "https://localhost:8080/"
        },
        "id": "vVttLp_PJhmY",
        "outputId": "f0beb45a-a4d5-40b8-c77b-c2faad0bfd2d"
      },
      "outputs": [
        {
          "output_type": "stream",
          "name": "stdout",
          "text": [
            "Epoch 1/7\n",
            "68/68 [==============================] - 11s 145ms/step - loss: 301090.6875 - accuracy: 0.7837 - val_loss: 4154.0845 - val_accuracy: 0.7992\n",
            "Epoch 2/7\n",
            "68/68 [==============================] - 7s 102ms/step - loss: 2048.7800 - accuracy: 0.9254 - val_loss: 479.8541 - val_accuracy: 0.9874\n",
            "Epoch 3/7\n",
            "68/68 [==============================] - 5s 72ms/step - loss: 3156.4773 - accuracy: 0.9301 - val_loss: 1049.9689 - val_accuracy: 0.9247\n",
            "Epoch 4/7\n",
            "68/68 [==============================] - 5s 73ms/step - loss: 1028.2090 - accuracy: 0.9357 - val_loss: 263.0147 - val_accuracy: 0.9582\n",
            "Epoch 5/7\n",
            "68/68 [==============================] - 5s 77ms/step - loss: 516.4886 - accuracy: 0.9427 - val_loss: 212.8764 - val_accuracy: 0.9414\n",
            "Epoch 6/7\n",
            "68/68 [==============================] - 5s 71ms/step - loss: 252.7254 - accuracy: 0.9501 - val_loss: 122.5333 - val_accuracy: 0.9582\n",
            "Epoch 7/7\n",
            "68/68 [==============================] - 5s 80ms/step - loss: 396.0106 - accuracy: 0.9548 - val_loss: 457.9989 - val_accuracy: 0.9540\n"
          ]
        }
      ],
      "source": [
        "trainingEpochs = CNN.fit(In_Train, Out_Train, batch_size=32, epochs=7, validation_split=0.1)"
      ]
    },
    {
      "cell_type": "code",
      "source": [
        "y_pred = np.argmax(CNN.predict(In_Test), axis=1)\n",
        "Out_Test = np.argmax(Out_Test, axis=1)\n",
        "cm = confusion_matrix(Out_Test, y_pred)\n",
        "CNN_Accuracy = np.trace(cm) / np.sum(cm)*100\n",
        "print(\"The accuracy of the model is: \"+str(np.round(CNN_Accuracy,2))+\"%\")"
      ],
      "metadata": {
        "colab": {
          "base_uri": "https://localhost:8080/"
        },
        "id": "oKFy3r5rG90x",
        "outputId": "0f2c12cc-64b0-4f8e-88cf-15414535a7e6"
      },
      "execution_count": 6,
      "outputs": [
        {
          "output_type": "stream",
          "name": "stdout",
          "text": [
            "19/19 [==============================] - 0s 20ms/step\n",
            "The accuracy of the model is: 92.45%\n"
          ]
        }
      ]
    },
    {
      "cell_type": "code",
      "source": [
        "classes = [\"Gesture 1\", \"Gesture 2\", \"Gesture 3\", \"Gesture 4\", \"Gesture 0\"]\n",
        "\n",
        "plt.figure(figsize=(8, 6))\n",
        "sns.heatmap(cm, annot=True, fmt='d', cmap='Blues', xticklabels=classes, yticklabels=classes)\n",
        "plt.xlabel('Predicted Labels')\n",
        "plt.ylabel('True Labels')\n",
        "plt.title('Confusion Matrix')\n",
        "plt.show()"
      ],
      "metadata": {
        "colab": {
          "base_uri": "https://localhost:8080/",
          "height": 564
        },
        "id": "WfSe1NmKr6X8",
        "outputId": "48142e6b-061e-4b9f-95cc-fdfddbba92aa"
      },
      "execution_count": 7,
      "outputs": [
        {
          "output_type": "display_data",
          "data": {
            "text/plain": [
              "<Figure size 800x600 with 2 Axes>"
            ],
            "image/png": "[encoded data removed]"
          },
          "metadata": {}
        }
      ]
    },
    {
      "cell_type": "code",
      "source": [
        "CNN.save('/content/Robot_Arm_Classification.hdf5')"
      ],
      "metadata": {
        "id": "W1G54IqNYWDw",
        "colab": {
          "base_uri": "https://localhost:8080/"
        },
        "outputId": "c559bdde-a223-4f22-cb4e-2560f38eda67"
      },
      "execution_count": 9,
      "outputs": [
        {
          "output_type": "stream",
          "name": "stderr",
          "text": [
            "/usr/local/lib/python3.10/dist-packages/keras/src/engine/training.py:3103: UserWarning: You are saving your model as an HDF5 file via `model.save()`. This file format is considered legacy. We recommend using instead the native Keras format, e.g. `model.save('my_model.keras')`.\n",
            "  saving_api.save_model(\n"
          ]
        }
      ]
    }
  ],
  "metadata": {
    "colab": {
      "provenance": []
    },
    "kernelspec": {
      "display_name": "Python 3",
      "name": "python3"
    }
  },
  "nbformat": 4,
  "nbformat_minor": 0
}